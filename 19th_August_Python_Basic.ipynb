{
 "cells": [
  {
   "cell_type": "markdown",
   "id": "515dd96a-afc7-40c3-8c60-2351d296aa5d",
   "metadata": {},
   "source": [
    "TOPIC: Python Basics Variable"
   ]
  },
  {
   "cell_type": "markdown",
   "id": "034a194d-ceb7-47c4-aa97-322d6e7d6c74",
   "metadata": {},
   "source": [
    "Declare Q 1. two variables, `x` and `y`, and assign them integer values. Swap the\n",
    "values of these variables without using any temporary variable."
   ]
  },
  {
   "cell_type": "code",
   "execution_count": 1,
   "id": "e826c3d6-c8e8-4675-b3b7-fed734ef4195",
   "metadata": {},
   "outputs": [
    {
     "data": {
      "text/plain": [
       "(33, 2)"
      ]
     },
     "execution_count": 1,
     "metadata": {},
     "output_type": "execute_result"
    }
   ],
   "source": [
    "#Solution of Qustion 1\n",
    "x,y=2,33\n",
    "x=x^y\n",
    "y=y^x\n",
    "x=x^y\n",
    "x,y"
   ]
  },
  {
   "cell_type": "markdown",
   "id": "6c2be72d-b1e9-46fc-81fd-8e3cd3f369e3",
   "metadata": {},
   "source": [
    "Q. 2. Create a program that calculates the area of a rectangle. Take the length and\n",
    "width as inputs from the user and store them in variables. Calculate and\n",
    "display the area."
   ]
  },
  {
   "cell_type": "code",
   "execution_count": 2,
   "id": "23d43b31-c02b-4d7c-b6e4-93c1e1d2b1a4",
   "metadata": {},
   "outputs": [
    {
     "name": "stdin",
     "output_type": "stream",
     "text": [
      "Enter the length 7\n",
      "Enter the bredth 6\n"
     ]
    },
    {
     "name": "stdout",
     "output_type": "stream",
     "text": [
      "The Area is 42\n"
     ]
    }
   ],
   "source": [
    "#Solution Question 2\n",
    "length=int(input(\"Enter the length\"))\n",
    "breadth= int(input(\"Enter the bredth\"))\n",
    "print(\"The Area is\",length*breadth)"
   ]
  },
  {
   "cell_type": "markdown",
   "id": "a410db5d-4486-41fc-afb1-e252d570e7c3",
   "metadata": {},
   "source": [
    "Q. 3. Write a Python program that converts temperatures from Celsius to\n",
    "Fahrenheit. Take the temperature in Celsius as input, store it in a variable,\n",
    "convert it to Fahrenheit, and display the result."
   ]
  },
  {
   "cell_type": "code",
   "execution_count": 3,
   "id": "62b70677-ff84-4d29-b1de-9793441a1513",
   "metadata": {},
   "outputs": [
    {
     "name": "stdin",
     "output_type": "stream",
     "text": [
      "Enter the temprature in celsius 45\n"
     ]
    },
    {
     "name": "stdout",
     "output_type": "stream",
     "text": [
      "The temprature in Fahrenheit is 113.0\n"
     ]
    }
   ],
   "source": [
    "#Solution Question 3\n",
    "temp_in_cel=int(input(\"Enter the temprature in celsius\"))\n",
    "temp_in_fer = temp_in_cel*(9/5) + 32\n",
    "print(\"The temprature in Fahrenheit is\",temp_in_fer)"
   ]
  },
  {
   "cell_type": "markdown",
   "id": "e58ac58d-03fb-49f3-9d52-789c8afe7a4a",
   "metadata": {},
   "source": [
    "TOPIC: String Based Questions"
   ]
  },
  {
   "cell_type": "markdown",
   "id": "72bcc790-0ec8-4d3b-9938-00a4114c07f2",
   "metadata": {},
   "source": [
    "Q. 1. Write a Python program that takes a string as input and prints the length of\n",
    "the string."
   ]
  },
  {
   "cell_type": "code",
   "execution_count": 4,
   "id": "8b394901-9c19-4b1d-8b02-600c01966868",
   "metadata": {},
   "outputs": [
    {
     "name": "stdin",
     "output_type": "stream",
     "text": [
      "Enter any string kaif\n"
     ]
    },
    {
     "data": {
      "text/plain": [
       "4"
      ]
     },
     "execution_count": 4,
     "metadata": {},
     "output_type": "execute_result"
    }
   ],
   "source": [
    "#Solution Question 1\n",
    "string=str(input(\"Enter any string\"))\n",
    "len(string)"
   ]
  },
  {
   "cell_type": "markdown",
   "id": "279b0cf2-6026-4257-9029-69384d152de6",
   "metadata": {},
   "source": [
    "Q. 2. Create a program that takes a sentence from the user and counts the number\n",
    "of vowels (a, e, i, o, u) in the string."
   ]
  },
  {
   "cell_type": "code",
   "execution_count": 5,
   "id": "ac97f5b6-b2c5-40fa-b016-6a41968e309b",
   "metadata": {},
   "outputs": [
    {
     "name": "stdin",
     "output_type": "stream",
     "text": [
      "Enter any string aeiouxyz\n"
     ]
    },
    {
     "data": {
      "text/plain": [
       "5"
      ]
     },
     "execution_count": 5,
     "metadata": {},
     "output_type": "execute_result"
    }
   ],
   "source": [
    "#Solution Question 2\n",
    "string=str(input(\"Enter any string\"))\n",
    "ct=0;\n",
    "for i in range(len(string)):\n",
    "    if(string[i]=='a' or string[i]=='e' or string[i]=='i' or string[i]=='o' or string[i]=='u'):\n",
    "        ct+=1\n",
    "ct"
   ]
  },
  {
   "cell_type": "markdown",
   "id": "4b98b5f1-ec80-49de-8ef4-d956b12987a4",
   "metadata": {},
   "source": [
    "Q. 3. Given a string, reverse the order of characters using string slicing and print\n",
    "the reversed string."
   ]
  },
  {
   "cell_type": "code",
   "execution_count": 6,
   "id": "9fcb66c8-eb79-4c14-ab0c-bbaf067214d7",
   "metadata": {},
   "outputs": [
    {
     "name": "stdin",
     "output_type": "stream",
     "text": [
      "Enter any string kaif\n"
     ]
    },
    {
     "name": "stdout",
     "output_type": "stream",
     "text": [
      "The reversed string is fiak\n"
     ]
    }
   ],
   "source": [
    "#Solution Question 3\n",
    "s=str(input(\"Enter any string\"))\n",
    "print(\"The reversed string is\",s[::-1])"
   ]
  },
  {
   "cell_type": "markdown",
   "id": "d261e409-683e-44d0-b7b6-c925ba9c0659",
   "metadata": {},
   "source": [
    "Q. 4. Write a program that takes a string as input and checks if it is a palindrome\n",
    "(reads the same forwards and backwards)."
   ]
  },
  {
   "cell_type": "code",
   "execution_count": 7,
   "id": "a06724ee-2034-44dd-8732-27c2195c4a71",
   "metadata": {},
   "outputs": [
    {
     "name": "stdin",
     "output_type": "stream",
     "text": [
      "Enter any string aadaa\n"
     ]
    },
    {
     "name": "stdout",
     "output_type": "stream",
     "text": [
      "is Pallendrome\n"
     ]
    }
   ],
   "source": [
    "#Solution Question 4\n",
    "s=str(input(\"Enter any string\"))\n",
    "if(s==s[::-1]):\n",
    "    print(\"is Pallendrome\")\n",
    "else:\n",
    "    print(\"is not Pallendrome\")"
   ]
  },
  {
   "cell_type": "markdown",
   "id": "01d041e6-fed3-4a85-a452-ac969db763fe",
   "metadata": {},
   "source": [
    "Q. 5. Create a program that takes a string as input and removes all the spaces from\n",
    "it. Print the modified string without spaces."
   ]
  },
  {
   "cell_type": "code",
   "execution_count": 8,
   "id": "6d673460-f0f5-4b3f-9110-a17df05f5127",
   "metadata": {},
   "outputs": [
    {
     "name": "stdin",
     "output_type": "stream",
     "text": [
      "Enter any string Hello! I Am A Student Of PW.\n"
     ]
    },
    {
     "name": "stdout",
     "output_type": "stream",
     "text": [
      "Given string without space : Hello!IAmAStudentOfPW.\n"
     ]
    }
   ],
   "source": [
    "#Solution Question 5\n",
    "s=str(input(\"Enter any string\"))\n",
    "new_s=\"\"\n",
    "for i in range(len(s)):\n",
    "    if(s[i]!=\" \"):\n",
    "        new_s+=s[i]\n",
    "print(\"Given string without space :\",new_s)"
   ]
  },
  {
   "cell_type": "code",
   "execution_count": null,
   "id": "7b6af840-edc2-4b73-bdd7-584bf127e72c",
   "metadata": {},
   "outputs": [],
   "source": []
  }
 ],
 "metadata": {
  "kernelspec": {
   "display_name": "Python 3 (ipykernel)",
   "language": "python",
   "name": "python3"
  },
  "language_info": {
   "codemirror_mode": {
    "name": "ipython",
    "version": 3
   },
   "file_extension": ".py",
   "mimetype": "text/x-python",
   "name": "python",
   "nbconvert_exporter": "python",
   "pygments_lexer": "ipython3",
   "version": "3.10.8"
  }
 },
 "nbformat": 4,
 "nbformat_minor": 5
}
